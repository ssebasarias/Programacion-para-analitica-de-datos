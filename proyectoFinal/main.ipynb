{
 "cells": [
  {
   "attachments": {},
   "cell_type": "markdown",
   "metadata": {},
   "source": [
    "Importar librerias y data set"
   ]
  },
  {
   "cell_type": "code",
   "execution_count": null,
   "metadata": {},
   "outputs": [],
   "source": [
    "# Importar las librerías\n",
    "import pandas as pd\n",
    "import numpy as np\n",
    "import matplotlib.pyplot as plt\n",
    "import seaborn as sns"
   ]
  },
  {
   "cell_type": "code",
   "execution_count": null,
   "metadata": {},
   "outputs": [],
   "source": [
    "# Leer el data set\n",
    "df = pd.read_csv(\"Fish.csv\")"
   ]
  },
  {
   "attachments": {},
   "cell_type": "markdown",
   "metadata": {},
   "source": [
    "Proceso de data wrangling"
   ]
  },
  {
   "cell_type": "code",
   "execution_count": null,
   "metadata": {},
   "outputs": [],
   "source": [
    "# Verificar el tipo de datos, el número de filas y columnas, y si hay valores nulos o duplicados\n",
    "df.info()\n",
    "df.shape\n",
    "df.isnull().sum()\n",
    "df.duplicated().sum()"
   ]
  },
  {
   "cell_type": "code",
   "execution_count": null,
   "metadata": {},
   "outputs": [],
   "source": [
    "# Limpiar y transformar los datos (en este caso no hay mucho que hacer, solo cambiar el nombre de una columna)\n",
    "df = df.rename(columns={\"Length1\":\"Length_Vertical\"})"
   ]
  },
  {
   "cell_type": "code",
   "execution_count": null,
   "metadata": {},
   "outputs": [],
   "source": [
    "# Explorar los datos con estadísticas descriptivas y gráficos\n",
    "df.describe()\n",
    "df[\"Species\"].value_counts()\n",
    "df.corr() > resultado.txt\n"
   ]
  },
  {
   "cell_type": "code",
   "execution_count": null,
   "metadata": {},
   "outputs": [],
   "source": [
    "# Explorar los datos con estadísticas descriptivas y gráficos\n",
    "df.describe()\n",
    "df[\"Species\"].value_counts()\n",
    "df.corr() \n"
   ]
  },
  {
   "cell_type": "code",
   "execution_count": null,
   "metadata": {},
   "outputs": [],
   "source": [
    "# Hacer un histograma del peso de los peces\n",
    "plt.hist(df[\"Weight\"], bins=20)\n",
    "plt.xlabel(\"Weight (g)\")\n",
    "plt.ylabel(\"Frequency\")\n",
    "plt.title(\"Histogram of Fish Weight\")\n",
    "plt.show()"
   ]
  },
  {
   "cell_type": "code",
   "execution_count": null,
   "metadata": {},
   "outputs": [],
   "source": [
    "# Hacer un boxplot del peso de los peces según la especie\n",
    "sns.boxplot(x=\"Species\", y=\"Weight\", data=df)\n",
    "plt.xlabel(\"Species\")\n",
    "plt.ylabel(\"Weight (g)\")\n",
    "plt.title(\"Boxplot of Fish Weight by Species\")\n",
    "plt.show()"
   ]
  },
  {
   "cell_type": "code",
   "execution_count": null,
   "metadata": {},
   "outputs": [],
   "source": [
    "# Hacer un gráfico de dispersión del peso y la longitud vertical de los peces\n",
    "plt.scatter(df[\"Weight\"], df[\"Length_Vertical\"])\n",
    "plt.xlabel(\"Weight (g)\")\n",
    "plt.ylabel(\"Length Vertical (cm)\")\n",
    "plt.title(\"Scatterplot of Fish Weight and Length Vertical\")\n",
    "plt.show()"
   ]
  },
  {
   "cell_type": "code",
   "execution_count": null,
   "metadata": {},
   "outputs": [],
   "source": [
    "# Hacer un mapa de calor de la matriz de correlación entre las variables numéricas\n",
    "sns.heatmap(df.corr(), annot=True, cmap=\"Blues\")\n",
    "plt.title(\"Heatmap of Correlation Matrix\")\n",
    "plt.show()"
   ]
  },
  {
   "attachments": {},
   "cell_type": "markdown",
   "metadata": {},
   "source": [
    "**Regresion lineal simple:** Predecir el peso de los peces en funcion a su longitud:"
   ]
  },
  {
   "cell_type": "code",
   "execution_count": null,
   "metadata": {},
   "outputs": [],
   "source": [
    "from sklearn.linear_model import LinearRegression\n",
    "\n",
    "# Seleccionar las variables predictoras y la variable objetivo\n",
    "X = df[[\"Length_Vertical\"]]\n",
    "y = df[\"Weight\"]\n",
    "\n",
    "# Crear una instancia del modelo de regresión lineal\n",
    "model = LinearRegression()\n",
    "\n",
    "# Ajustar el modelo a los datos\n",
    "model.fit(X, y)\n",
    "\n",
    "# Hacer una predicción con una longitud vertical de 25 cm\n",
    "prediction = model.predict([[25]])\n",
    "\n",
    "# Imprimir la predicción\n",
    "print(f\"La predicción del modelo para un pez con una longitud vertical de 25 cm es {prediction[0]:.2f} gramos.\")\n"
   ]
  },
  {
   "attachments": {},
   "cell_type": "markdown",
   "metadata": {},
   "source": [
    "**Regresion lineal multiple:** Predecir el peso de los peces en funcion a su longitud vertical y anchuratransversal:"
   ]
  },
  {
   "cell_type": "code",
   "execution_count": null,
   "metadata": {},
   "outputs": [],
   "source": [
    "from sklearn.linear_model import LinearRegression\n",
    "\n",
    "# Seleccionar las variables predictoras y la variable objetivo\n",
    "X = df[[\"Length_Vertical\", \"Width\"]]\n",
    "y = df[\"Weight\"]\n",
    "\n",
    "# Crear una instancia del modelo de regresión lineal\n",
    "model = LinearRegression()\n",
    "\n",
    "# Ajustar el modelo a los datos\n",
    "model.fit(X, y)\n",
    "\n",
    "# Hacer una predicción con una longitud vertical de 25 cm y una anchura transversal de 10 cm\n",
    "prediction = model.predict([[25, 10]])\n",
    "\n",
    "# Imprimir la predicción\n",
    "print(f\"La predicción del modelo para un pez con una longitud vertical de 25 cm y una anchura transversal de 10 cm es {prediction[0]:.2f} gramos.\")\n"
   ]
  },
  {
   "attachments": {},
   "cell_type": "markdown",
   "metadata": {},
   "source": [
    "**Regresion lineal multiple:** Predecir el peso de los peces en función de su longitud vertical, anchura transversal y su especie:"
   ]
  },
  {
   "cell_type": "code",
   "execution_count": null,
   "metadata": {},
   "outputs": [],
   "source": [
    "from sklearn.preprocessing import OneHotEncoder\n",
    "from sklearn.compose import ColumnTransformer\n",
    "from sklearn.linear_model import LinearRegression\n",
    "\n",
    "# Seleccionar las variables predictoras y la variable objetivo\n",
    "X = df[[\"Length_Vertical\", \"Width\", \"Species\"]]\n",
    "y = df[\"Weight\"]\n",
    "\n",
    "# Crear un codificador one-hot para la variable categórica 'Species'\n",
    "encoder = OneHotEncoder()\n",
    "ct = ColumnTransformer([(\"encoder\", encoder, [2])], remainder=\"passthrough\")\n",
    "X_encoded = ct.fit_transform(X)\n",
    "\n",
    "# Crear una instancia del modelo de regresión lineal\n",
    "model = LinearRegression()\n",
    "\n",
    "# Ajustar el modelo a los datos\n",
    "model.fit(X_encoded, y)\n",
    "\n",
    "# Hacer una predicción para un Bass con una longitud vertical de 25 cm y una anchura transversal de 10 cm\n",
    "prediction = model.predict([[1, 0, 0, 25, 10]])\n",
    "\n",
    "# Imprimir la predicción\n",
    "print(f\"La predicción del modelo para un Bass con una longitud vertical de 25 cm y una anchura transversal de 10 cm es {prediction[0]:.2f} gramos.\")\n"
   ]
  }
 ],
 "metadata": {
  "kernelspec": {
   "display_name": "Python 3",
   "language": "python",
   "name": "python3"
  },
  "language_info": {
   "codemirror_mode": {
    "name": "ipython",
    "version": 3
   },
   "file_extension": ".py",
   "mimetype": "text/x-python",
   "name": "python",
   "nbconvert_exporter": "python",
   "pygments_lexer": "ipython3",
   "version": "3.11.2"
  },
  "orig_nbformat": 4
 },
 "nbformat": 4,
 "nbformat_minor": 2
}
