{
 "cells": [
  {
   "attachments": {},
   "cell_type": "markdown",
   "metadata": {},
   "source": [
    "Importar librerias y data set"
   ]
  },
  {
   "cell_type": "code",
   "execution_count": null,
   "metadata": {},
   "outputs": [],
   "source": [
    "# Importar las librerías\n",
    "import pandas as pd\n",
    "import numpy as np\n",
    "import matplotlib.pyplot as plt\n",
    "import seaborn as sns"
   ]
  },
  {
   "cell_type": "code",
   "execution_count": null,
   "metadata": {},
   "outputs": [],
   "source": [
    "# Leer el data set\n",
    "df = pd.read_csv(\"Fish.csv\")"
   ]
  },
  {
   "attachments": {},
   "cell_type": "markdown",
   "metadata": {},
   "source": [
    "Proceso de data wrangling"
   ]
  },
  {
   "cell_type": "code",
   "execution_count": null,
   "metadata": {},
   "outputs": [],
   "source": [
    "# Verificar el tipo de datos, el número de filas y columnas, y si hay valores nulos o duplicados\n",
    "df.info()\n",
    "df.shape\n",
    "df.isnull().sum()\n",
    "df.duplicated().sum()"
   ]
  },
  {
   "cell_type": "code",
   "execution_count": null,
   "metadata": {},
   "outputs": [],
   "source": [
    "# Limpiar y transformar los datos (en este caso no hay mucho que hacer, solo cambiar el nombre de una columna)\n",
    "df = df.rename(columns={\"Length1\":\"Length_Vertical\"})"
   ]
  },
  {
   "cell_type": "code",
   "execution_count": null,
   "metadata": {},
   "outputs": [],
   "source": [
    "# Explorar los datos con estadísticas descriptivas y gráficos\n",
    "df.describe()\n",
    "df[\"Species\"].value_counts()\n",
    "df.corr() > resultado.txt\n"
   ]
  },
  {
   "cell_type": "code",
   "execution_count": null,
   "metadata": {},
   "outputs": [],
   "source": [
    "# Explorar los datos con estadísticas descriptivas y gráficos\n",
    "df.describe()\n",
    "df[\"Species\"].value_counts()\n",
    "df.corr() \n"
   ]
  },
  {
   "cell_type": "code",
   "execution_count": null,
   "metadata": {},
   "outputs": [],
   "source": [
    "# Hacer un histograma del peso de los peces\n",
    "plt.hist(df[\"Weight\"], bins=20)\n",
    "plt.xlabel(\"Weight (g)\")\n",
    "plt.ylabel(\"Frequency\")\n",
    "plt.title(\"Histogram of Fish Weight\")\n",
    "plt.show()"
   ]
  },
  {
   "cell_type": "code",
   "execution_count": null,
   "metadata": {},
   "outputs": [],
   "source": [
    "# Hacer un boxplot del peso de los peces según la especie\n",
    "sns.boxplot(x=\"Species\", y=\"Weight\", data=df)\n",
    "plt.xlabel(\"Species\")\n",
    "plt.ylabel(\"Weight (g)\")\n",
    "plt.title(\"Boxplot of Fish Weight by Species\")\n",
    "plt.show()"
   ]
  },
  {
   "cell_type": "code",
   "execution_count": null,
   "metadata": {},
   "outputs": [],
   "source": [
    "# Hacer un gráfico de dispersión del peso y la longitud vertical de los peces\n",
    "plt.scatter(df[\"Weight\"], df[\"Length_Vertical\"])\n",
    "plt.xlabel(\"Weight (g)\")\n",
    "plt.ylabel(\"Length Vertical (cm)\")\n",
    "plt.title(\"Scatterplot of Fish Weight and Length Vertical\")\n",
    "plt.show()"
   ]
  },
  {
   "cell_type": "code",
   "execution_count": null,
   "metadata": {},
   "outputs": [],
   "source": [
    "# Hacer un mapa de calor de la matriz de correlación entre las variables numéricas\n",
    "sns.heatmap(df.corr(), annot=True, cmap=\"Blues\")\n",
    "plt.title(\"Heatmap of Correlation Matrix\")\n",
    "plt.show()"
   ]
  }
 ],
 "metadata": {
  "kernelspec": {
   "display_name": "Python 3",
   "language": "python",
   "name": "python3"
  },
  "language_info": {
   "codemirror_mode": {
    "name": "ipython",
    "version": 3
   },
   "file_extension": ".py",
   "mimetype": "text/x-python",
   "name": "python",
   "nbconvert_exporter": "python",
   "pygments_lexer": "ipython3",
   "version": "3.11.2"
  },
  "orig_nbformat": 4
 },
 "nbformat": 4,
 "nbformat_minor": 2
}
